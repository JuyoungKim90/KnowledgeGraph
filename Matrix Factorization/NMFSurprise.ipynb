{
  "nbformat": 4,
  "nbformat_minor": 0,
  "metadata": {
    "colab": {
      "name": "NMFSurprise.ipynb",
      "provenance": [],
      "collapsed_sections": []
    },
    "kernelspec": {
      "name": "python3",
      "display_name": "Python 3"
    }
  },
  "cells": [
    
    
    {
      "cell_type": "code",
      "metadata": {
        "id": "Ta3BDNPMPH8X",
        "colab_type": "code",
        "colab": {}
      },
      "source": [
        "from surprise.reader import Reader\n",
        "from surprise.dataset import Dataset\n",
        "import pandas as pd"
      ],
      "execution_count": 0,
      "outputs": []
    },
    {
      "cell_type": "code",
      "metadata": {
        "id": "bk66sPBWPd7t",
        "colab_type": "code",
        "colab": {}
      },
      "source": [
        "ratings = pd.read_csv('ratings.csv') "
      ],
      "execution_count": 0,
      "outputs": []
    },
    {
      "cell_type": "code",
      "metadata": {
        "id": "b3UcgJ1MPPLj",
        "colab_type": "code",
        "colab": {}
      },
      "source": [
        "ratings_data = {'movieID': list(ratings.movieId),\n",
        "                'userID': list(ratings.userId),\n",
        "                'rating': list(ratings.rating)}\n",
        "ratings_df = pd.DataFrame(ratings_data)"
      ],
      "execution_count": 0,
      "outputs": []
    },
    {
      "cell_type": "code",
      "metadata": {
        "id": "QWU7aIFePuRu",
        "colab_type": "code",
        "colab": {}
      },
      "source": [
        "reader = Reader(rating_scale=(0.5, 5.0))\n",
        "\n",
        "data = Dataset.load_from_df(ratings_df[['userID', 'movieID', 'rating']], reader)"
      ],
      "execution_count": 0,
      "outputs": []
    },
    {
      "cell_type": "code",
      "metadata": {
        "id": "wDZh3qGkP3_Y",
        "colab_type": "code",
        "outputId": "459a15fb-4517-44e6-f065-2256026fd701",
        "colab": {
          "base_uri": "https://localhost:8080/",
          "height": 302
        }
      },
      "source": [
        "from surprise import NMF\n",
        "from surprise.model_selection import cross_validate\n",
        "\n",
        "\n",
        "model = NMF()\n",
        "cross_validate(model, data, measures=['RMSE'], cv=5, verbose=True)"
      ],
      "execution_count": 0,
      "outputs": [
        {
          "output_type": "stream",
          "text": [
            "Evaluating RMSE of algorithm NMF on 5 split(s).\n",
            "\n",
            "                  Fold 1  Fold 2  Fold 3  Fold 4  Fold 5  Mean    Std     \n",
            "RMSE (testset)    0.9226  0.9182  0.9245  0.9264  0.9178  0.9219  0.0034  \n",
            "Fit time          6.45    6.58    7.18    6.86    6.41    6.70    0.29    \n",
            "Test time         0.12    0.12    0.26    0.12    0.25    0.17    0.06    \n"
          ],
          "name": "stdout"
        },
        {
          "output_type": "execute_result",
          "data": {
            "text/plain": [
              "{'fit_time': (6.447073698043823,\n",
              "  6.580241441726685,\n",
              "  7.182037830352783,\n",
              "  6.8637049198150635,\n",
              "  6.413405895233154),\n",
              " 'test_rmse': array([0.922552  , 0.91818468, 0.92449489, 0.92636612, 0.91775241]),\n",
              " 'test_time': (0.1205904483795166,\n",
              "  0.11816048622131348,\n",
              "  0.25545692443847656,\n",
              "  0.12456941604614258,\n",
              "  0.24792003631591797)}"
            ]
          },
          "metadata": {
            "tags": []
          },
          "execution_count": 34
        }
      ]
    },
    {
      "cell_type": "code",
      "metadata": {
        "id": "CrpfSUASUqKp",
        "colab_type": "code",
        "colab": {
          "base_uri": "https://localhost:8080/",
          "height": 302
        },
        "outputId": "20de5c8c-c85f-4e55-b64b-5dc35aaeaf28"
      },
      "source": [
        "from surprise import NMF\n",
        "from surprise.model_selection import cross_validate\n",
        "\n",
        "\n",
        "model = NMF()\n",
        "cross_validate(model, data, measures=['MAE'], cv=5, verbose=True)"
      ],
      "execution_count": 39,
      "outputs": [
        {
          "output_type": "stream",
          "text": [
            "Evaluating MAE of algorithm NMF on 5 split(s).\n",
            "\n",
            "                  Fold 1  Fold 2  Fold 3  Fold 4  Fold 5  Mean    Std     \n",
            "MAE (testset)     0.7055  0.7083  0.7113  0.7097  0.7018  0.7073  0.0033  \n",
            "Fit time          6.50    6.32    6.27    6.52    6.48    6.42    0.10    \n",
            "Test time         0.12    0.14    0.24    0.12    0.23    0.17    0.06    \n"
          ],
          "name": "stdout"
        },
        {
          "output_type": "execute_result",
          "data": {
            "text/plain": [
              "{'fit_time': (6.498975992202759,\n",
              "  6.317453861236572,\n",
              "  6.269260406494141,\n",
              "  6.51776647567749,\n",
              "  6.484663963317871),\n",
              " 'test_mae': array([0.70554285, 0.7082608 , 0.71130484, 0.70965972, 0.70181827]),\n",
              " 'test_time': (0.12136268615722656,\n",
              "  0.13583087921142578,\n",
              "  0.23935914039611816,\n",
              "  0.1175994873046875,\n",
              "  0.234527587890625)}"
            ]
          },
          "metadata": {
            "tags": []
          },
          "execution_count": 39
        }
      ]
    }
  ]
}